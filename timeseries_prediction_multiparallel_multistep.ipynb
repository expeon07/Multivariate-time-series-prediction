{
 "cells": [
  {
   "cell_type": "markdown",
   "metadata": {},
   "source": [
    "# Time Series Forecasting for Multiple Parallel Input and Multi-step Output"
   ]
  },
  {
   "cell_type": "markdown",
   "metadata": {},
   "source": [
    "Based on https://machinelearningmastery.com/how-to-develop-lstm-models-for-time-series-forecasting/"
   ]
  },
  {
   "cell_type": "code",
   "execution_count": 50,
   "metadata": {},
   "outputs": [],
   "source": [
    "import tensorflow as tf\n",
    "from tensorflow import keras\n",
    "import matplotlib.pyplot as plt\n",
    "import numpy as np\n",
    "import pandas as pd"
   ]
  },
  {
   "cell_type": "code",
   "execution_count": 51,
   "metadata": {},
   "outputs": [
    {
     "name": "stdout",
     "output_type": "stream",
     "text": [
      "     CO_PPM  humidity  temperature     timestamp\n",
      "0  10.95994      49.0         22.8  1.645978e+09\n",
      "1  11.74180      49.0         22.8  1.645978e+09\n",
      "2  12.02302      50.0         22.7  1.645978e+09\n",
      "3  12.09442      51.0         22.7  1.645978e+09\n",
      "4  12.02302      51.0         22.7  1.645978e+09\n",
      "(9846, 4)\n"
     ]
    }
   ],
   "source": [
    "# JSON file\n",
    "json_file = \"dataset/kitchen-data.json\"\n",
    "\n",
    "# Convert JSON to pandas dataframe\n",
    "json_data = pd.read_json(json_file, orient='split')\n",
    "dataset = json_data.transpose()\n",
    "# dataset['timestamp'] = pd.to_datetime(dataset['timestamp'], unit='s')\n",
    "\n",
    "# Drop incomplete rows\n",
    "dataset = dataset.dropna(axis=0)\n",
    "# Drop first column\n",
    "dataset.reset_index(drop=True, inplace=True)\n",
    "\n",
    "print(dataset.head())\n",
    "print(dataset.shape)\n",
    "\n",
    "dataset.to_csv(\"dataset/kitchen-dataset.csv\")"
   ]
  },
  {
   "cell_type": "markdown",
   "metadata": {},
   "source": [
    "### Split (and normalize) the data"
   ]
  },
  {
   "cell_type": "code",
   "execution_count": 52,
   "metadata": {},
   "outputs": [
    {
     "name": "stdout",
     "output_type": "stream",
     "text": [
      "Training data size   : (7876, 3)\n",
      "Validation data size : (1970, 3)\n"
     ]
    }
   ],
   "source": [
    "from sklearn.model_selection import train_test_split\n",
    "\n",
    "dataset = pd.read_csv('dataset/kitchen-dataset.csv')\n",
    "\n",
    "# Remove first column (index column)\n",
    "dataset = dataset.iloc[: , 1:]\n",
    "dataset.drop('timestamp', axis=1, inplace=True)\n",
    "# dataset.index.name = 'timestamp'\n",
    "\n",
    "# time_index = np.array(dataset['timestamp'])\n",
    "\n",
    "# Split the data\n",
    "RANDOM_SEED = 101\n",
    "TEST_SIZE = 0.2 \n",
    "\n",
    "x_train, x_test = train_test_split(dataset, \n",
    "    test_size=TEST_SIZE, \n",
    "    random_state = RANDOM_SEED)\n",
    "x_train = x_train.values\n",
    "x_test  = x_test.values\n",
    "\n",
    "print('Training data size   :', x_train.shape)\n",
    "print('Validation data size :', x_test.shape)"
   ]
  },
  {
   "cell_type": "code",
   "execution_count": 62,
   "metadata": {},
   "outputs": [],
   "source": [
    "# Normalize the data to give equal importance to features\n",
    "from sklearn.preprocessing import MinMaxScaler\n",
    "\n",
    "scaler = MinMaxScaler()\n",
    "x_train = scaler.fit_transform(x_train)\n",
    "x_test  = scaler.transform(x_test)"
   ]
  },
  {
   "cell_type": "code",
   "execution_count": 63,
   "metadata": {},
   "outputs": [],
   "source": [
    "# split a multivariate sequence into samples\n",
    "def split_series(sequences, n_past, n_future):\n",
    "\tX, y = list(), list()\n",
    "\tfor i in range(len(sequences)):\n",
    "\t\t# find the end of this pattern\n",
    "\t\tend_ix = i + n_past\n",
    "\t\tout_end_ix = end_ix + n_future\n",
    "\t\t# check if we are beyond the dataset\n",
    "\t\tif out_end_ix > len(sequences):\n",
    "\t\t\tbreak\n",
    "\t\t# gather input and output parts of the pattern\n",
    "\t\tseq_x, seq_y = sequences[i:end_ix, :], sequences[end_ix:out_end_ix, :]\n",
    "\t\tX.append(seq_x)\n",
    "\t\ty.append(seq_y)\n",
    "\treturn np.array(X), np.array(y)"
   ]
  },
  {
   "cell_type": "code",
   "execution_count": 64,
   "metadata": {},
   "outputs": [],
   "source": [
    "# Time step and features variable\n",
    "n_past = 100\n",
    "n_future = 50\n",
    "n_features = 3"
   ]
  },
  {
   "cell_type": "code",
   "execution_count": 65,
   "metadata": {},
   "outputs": [],
   "source": [
    "# convert both the train and test data into samples using the split_series function\n",
    "X_train, y_train = split_series(x_train, n_past, n_future)\n",
    "X_train = X_train.reshape((X_train.shape[0], X_train.shape[1],n_features))\n",
    "y_train = y_train.reshape((y_train.shape[0], y_train.shape[1], n_features))\n",
    "\n",
    "X_test, y_test = split_series(x_test,n_past, n_future)\n",
    "X_test = X_test.reshape((X_test.shape[0], X_test.shape[1],n_features))\n",
    "y_test = y_test.reshape((y_test.shape[0], y_test.shape[1], n_features))"
   ]
  },
  {
   "cell_type": "markdown",
   "metadata": {},
   "source": [
    "### Construct the model"
   ]
  },
  {
   "cell_type": "code",
   "execution_count": 66,
   "metadata": {},
   "outputs": [
    {
     "name": "stdout",
     "output_type": "stream",
     "text": [
      "Epoch 1/10\n",
      "242/242 [==============================] - 36s 115ms/step - loss: 0.0261 - val_loss: 0.0205 - lr: 0.0010\n",
      "Epoch 2/10\n",
      "242/242 [==============================] - 21s 85ms/step - loss: 0.0200 - val_loss: 0.0200 - lr: 9.0000e-04\n",
      "Epoch 3/10\n",
      "242/242 [==============================] - 20s 83ms/step - loss: 0.0197 - val_loss: 0.0199 - lr: 8.1000e-04\n",
      "Epoch 4/10\n",
      "242/242 [==============================] - 14s 58ms/step - loss: 0.0197 - val_loss: 0.0198 - lr: 7.2900e-04\n",
      "Epoch 5/10\n",
      "242/242 [==============================] - 14s 57ms/step - loss: 0.0196 - val_loss: 0.0198 - lr: 6.5610e-04\n",
      "Epoch 6/10\n",
      "242/242 [==============================] - 17s 71ms/step - loss: 0.0196 - val_loss: 0.0199 - lr: 5.9049e-04\n",
      "Epoch 7/10\n",
      "242/242 [==============================] - 14s 56ms/step - loss: 0.0196 - val_loss: 0.0198 - lr: 5.3144e-04\n",
      "Epoch 8/10\n",
      "242/242 [==============================] - 15s 60ms/step - loss: 0.0196 - val_loss: 0.0198 - lr: 4.7830e-04\n",
      "Epoch 9/10\n",
      "242/242 [==============================] - 16s 68ms/step - loss: 0.0196 - val_loss: 0.0198 - lr: 4.3047e-04\n",
      "Epoch 10/10\n",
      "242/242 [==============================] - 18s 73ms/step - loss: 0.0196 - val_loss: 0.0198 - lr: 3.8742e-04\n"
     ]
    },
    {
     "data": {
      "text/plain": [
       "<keras.callbacks.History at 0x154dbe550>"
      ]
     },
     "execution_count": 66,
     "metadata": {},
     "output_type": "execute_result"
    }
   ],
   "source": [
    "from keras.models import Sequential\n",
    "from keras.layers import LSTM\n",
    "from keras.layers import Dense\n",
    "from keras.layers import RepeatVector\n",
    "from keras.layers import TimeDistributed\n",
    "\n",
    "# define model\n",
    "model = Sequential()\n",
    "# model.add(LSTM(200, activation='relu', input_shape=(n_past, n_features)))\n",
    "model.add(LSTM(50, activation='relu', input_shape=(n_past, n_features)))\n",
    "model.add(RepeatVector(n_future))\n",
    "# model.add(LSTM(200, activation='relu', return_sequences=True))\n",
    "model.add(LSTM(50, activation='relu', return_sequences=True))\n",
    "model.add(TimeDistributed(Dense(n_features)))\n",
    "\n",
    "model.compile(optimizer='adam', loss='mse')\n",
    "\n",
    "# fit model\n",
    "reduce_lr = tf.keras.callbacks.LearningRateScheduler(lambda x: 1e-3 * 0.90 ** x)\n",
    "model.fit(X_train, y_train,\n",
    "    epochs=10,\n",
    "    validation_data=(X_test, y_test),\n",
    "    verbose=1,\n",
    "    callbacks=[reduce_lr])"
   ]
  },
  {
   "cell_type": "markdown",
   "metadata": {},
   "source": [
    "### Prediction"
   ]
  },
  {
   "cell_type": "code",
   "execution_count": 67,
   "metadata": {},
   "outputs": [
    {
     "name": "stdout",
     "output_type": "stream",
     "text": [
      "[[[0.1064267  0.33097455 0.37281096]\n",
      "  [0.10458103 0.34436095 0.39318353]\n",
      "  [0.10301789 0.33825088 0.38995743]\n",
      "  ...\n",
      "  [0.10389186 0.33762586 0.38782406]\n",
      "  [0.10389185 0.33762586 0.38782406]\n",
      "  [0.10389183 0.33762586 0.38782403]]\n",
      "\n",
      " [[0.10644111 0.33102718 0.37363803]\n",
      "  [0.10479936 0.34428996 0.39369476]\n",
      "  [0.1033992  0.33811307 0.39024112]\n",
      "  ...\n",
      "  [0.10433649 0.33744347 0.38785324]\n",
      "  [0.10433643 0.33744347 0.3878532 ]\n",
      "  [0.10433641 0.33744347 0.3878532 ]]\n",
      "\n",
      " [[0.10584801 0.329917   0.37305027]\n",
      "  [0.10435459 0.34359872 0.39327428]\n",
      "  [0.10304424 0.33754772 0.38971257]\n",
      "  ...\n",
      "  [0.10421225 0.3372584  0.3873302 ]\n",
      "  [0.10421224 0.33725837 0.38733017]\n",
      "  [0.10421224 0.33725837 0.38733017]]\n",
      "\n",
      " ...\n",
      "\n",
      " [[0.10403515 0.32406908 0.36758402]\n",
      "  [0.10385467 0.341882   0.3932804 ]\n",
      "  [0.10281681 0.33724773 0.39143816]\n",
      "  ...\n",
      "  [0.10430664 0.3372355  0.3890343 ]\n",
      "  [0.10430662 0.3372355  0.38903427]\n",
      "  [0.10430662 0.3372355  0.38903427]]\n",
      "\n",
      " [[0.10375243 0.3244745  0.36834618]\n",
      "  [0.10352029 0.34230188 0.39348745]\n",
      "  [0.10249905 0.33758456 0.3912033 ]\n",
      "  ...\n",
      "  [0.10404192 0.33761394 0.38837034]\n",
      "  [0.1040419  0.3376139  0.38837028]\n",
      "  [0.10404186 0.33761388 0.38837028]]\n",
      "\n",
      " [[0.10401081 0.32561755 0.37081218]\n",
      "  [0.10369892 0.34261233 0.3951465 ]\n",
      "  [0.10277034 0.3375365  0.39251012]\n",
      "  ...\n",
      "  [0.10443251 0.33699292 0.3891644 ]\n",
      "  [0.10443249 0.33699292 0.38916433]\n",
      "  [0.10443251 0.33699292 0.38916433]]]\n"
     ]
    }
   ],
   "source": [
    "# demonstrate prediction\n",
    "predictions = model.predict(X_test, verbose=0)\n",
    "print(predictions)"
   ]
  },
  {
   "cell_type": "code",
   "execution_count": 83,
   "metadata": {},
   "outputs": [
    {
     "name": "stdout",
     "output_type": "stream",
     "text": [
      "(1821,)\n",
      "(1970,)\n"
     ]
    },
    {
     "data": {
      "text/plain": [
       "<matplotlib.legend.Legend at 0x155a8ac88>"
      ]
     },
     "execution_count": 83,
     "metadata": {},
     "output_type": "execute_result"
    },
    {
     "data": {
      "image/png": "[encoded data removed]",
      "text/plain": [
       "<Figure size 1080x432 with 1 Axes>"
      ]
     },
     "metadata": {
      "needs_background": "light"
     },
     "output_type": "display_data"
    }
   ],
   "source": [
    "print(predictions[:,0,0].shape)\n",
    "print(x_test[:,0].shape)\n",
    "\n",
    "plt.figure(figsize=(15, 6))\n",
    "plt.title('CO Concentration')\n",
    "plt.plot(x_test[:,0], c='lavender', label='Test Data')\n",
    "plt.plot(predictions[:,0,0], c='cornflowerblue')\n",
    "# plt.plot(pred_e1d1[:,:,0], c='royalblue')\n",
    "plt.legend(loc='best')\n"
   ]
  }
 ],
 "metadata": {
  "interpreter": {
   "hash": "31f2aee4e71d21fbe5cf8b01ff0e069b9275f58929596ceb00d14d90e3e16cd6"
  },
  "kernelspec": {
   "display_name": "Python 3.7.3 64-bit",
   "language": "python",
   "name": "python3"
  },
  "language_info": {
   "codemirror_mode": {
    "name": "ipython",
    "version": 3
   },
   "file_extension": ".py",
   "mimetype": "text/x-python",
   "name": "python",
   "nbconvert_exporter": "python",
   "pygments_lexer": "ipython3",
   "version": "3.7.3"
  },
  "orig_nbformat": 4
 },
 "nbformat": 4,
 "nbformat_minor": 2
}
